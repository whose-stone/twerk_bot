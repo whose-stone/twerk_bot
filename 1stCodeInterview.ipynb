{
  "nbformat": 4,
  "nbformat_minor": 0,
  "metadata": {
    "colab": {
      "provenance": [],
      "authorship_tag": "ABX9TyO3vdcEshRdqygz8hs6VTO8",
      "include_colab_link": true
    },
    "kernelspec": {
      "name": "python3",
      "display_name": "Python 3"
    },
    "language_info": {
      "name": "python"
    }
  },
  "cells": [
    {
      "cell_type": "markdown",
      "metadata": {
        "id": "view-in-github",
        "colab_type": "text"
      },
      "source": [
        "<a href=\"https://colab.research.google.com/github/whose-stone/twerk_bot/blob/master/1stCodeInterview.ipynb\" target=\"_parent\"><img src=\"https://colab.research.google.com/assets/colab-badge.svg\" alt=\"Open In Colab\"/></a>"
      ]
    },
    {
      "cell_type": "markdown",
      "source": [
        "Write a program that sums all the numbers divisible by 3 or 5 below 1000. For example: All the numbers divisible by 3 or 5 below 10 are: 3,5,6,9 and their sum is 23.\n"
      ],
      "metadata": {
        "id": "gjLX8X46K2v6"
      }
    },
    {
      "cell_type": "code",
      "source": [
        "collect_num = [ ]\n",
        "\n",
        "start_num = 1\n",
        "\n",
        "end_point = 1001\n",
        "\n",
        "while start_num < end_point:\n",
        "  if start_num % 3 == False or start_num % 5 == False:\n",
        "    collect_num.append(start_num)\n",
        "    start_num = start_num + 1\n",
        "  else:\n",
        "    start_num = start_num + 1\n",
        "print(sum(collect_num))\n"
      ],
      "metadata": {
        "colab": {
          "base_uri": "https://localhost:8080/"
        },
        "id": "utoXzsrp-sPX",
        "outputId": "58d3c8b6-af9d-4a05-b8a8-0150ab9fcabf"
      },
      "execution_count": 17,
      "outputs": [
        {
          "output_type": "stream",
          "name": "stdout",
          "text": [
            "234168\n"
          ]
        }
      ]
    },
    {
      "cell_type": "markdown",
      "source": [
        "Write a program that prints the numbers from 1 to 100 and for multiples of '3' print \"Tic\" instead of the number and for the multiples of '5' print \"Toc\", if the number is multiple of 3 and 5 then print “TicToc”."
      ],
      "metadata": {
        "id": "q57a34GvK_KV"
      }
    },
    {
      "cell_type": "code",
      "source": [
        "start_point = 1\n",
        "end_point = 30\n",
        "\n",
        "while start_point < end_point:\n",
        "  if start_point % 3 == False and start_point % 5 == False:\n",
        "    print(\"Tic Toc\")\n",
        "    start_point = start_point + 1\n",
        "  elif start_point % 3 == False:\n",
        "    print (\"Tic\")\n",
        "    start_point = start_point + 1\n",
        "  elif start_point % 5 == False:\n",
        "    print(\"Toc\")\n",
        "    start_point = start_point + 1\n",
        "  else:\n",
        "    print (start_point)\n",
        "    start_point = start_point + 1\n"
      ],
      "metadata": {
        "colab": {
          "base_uri": "https://localhost:8080/"
        },
        "id": "ijQStJwUC7n3",
        "outputId": "5ad14f31-fe8a-4759-c083-dedf628956dc"
      },
      "execution_count": 28,
      "outputs": [
        {
          "output_type": "stream",
          "name": "stdout",
          "text": [
            "1\n",
            "2\n",
            "Tic\n",
            "4\n",
            "Toc\n",
            "Tic\n",
            "7\n",
            "8\n",
            "Tic\n",
            "Toc\n",
            "11\n",
            "Tic\n",
            "13\n",
            "14\n",
            "Tic Toc\n",
            "16\n",
            "17\n",
            "Tic\n",
            "19\n",
            "Toc\n",
            "Tic\n",
            "22\n",
            "23\n",
            "Tic\n",
            "Toc\n",
            "26\n",
            "Tic\n",
            "28\n",
            "29\n"
          ]
        }
      ]
    },
    {
      "cell_type": "markdown",
      "source": [
        "Make a program that filters a list of strings and returns a list with only your friends name in it. If a name has exactly 4 letters in it, you can be sure that it has to be a friend of yours! Otherwise, you can be sure he’s not…"
      ],
      "metadata": {
        "id": "GKlmSXmSLDhd"
      }
    },
    {
      "cell_type": "code",
      "source": [
        "def friend_finder(friend):\n",
        "  my_friends = []\n",
        "  for i in friend:\n",
        "    if len(i) == 4:\n",
        "      my_friends.append(i)\n",
        "    else:\n",
        "      pass\n",
        "  return my_friends\n",
        "\n",
        "friend_finder([\"Ryan\",\"Kieran\",\"Mark\",\"Miguel\"])"
      ],
      "metadata": {
        "id": "uPKHrMxsFpiF",
        "outputId": "9625b100-0283-48fa-a7e0-af56161eb6bb",
        "colab": {
          "base_uri": "https://localhost:8080/"
        }
      },
      "execution_count": 41,
      "outputs": [
        {
          "output_type": "execute_result",
          "data": {
            "text/plain": [
              "['Ryan', 'Mark']"
            ]
          },
          "metadata": {},
          "execution_count": 41
        }
      ]
    },
    {
      "cell_type": "markdown",
      "source": [
        "Write a function called sumDigits that returns the sum of all the digits in a given number.\n",
        "For example:\n",
        "5646 => 5+6+4+6 => 21"
      ],
      "metadata": {
        "id": "678IdToyLFjE"
      }
    },
    {
      "cell_type": "code",
      "source": [
        "def sumDigits(n):\n",
        "  add_list = [ ]\n",
        "  for i in str(n):\n",
        "    add_list.append(int(i))\n",
        "    add_total = sum(add_list)\n",
        "  return add_total\n",
        "\n",
        "sumDigits(333)\n"
      ],
      "metadata": {
        "id": "M992Am1UIHqD",
        "outputId": "5d40412d-6a48-4c36-8685-eca11d684137",
        "colab": {
          "base_uri": "https://localhost:8080/"
        }
      },
      "execution_count": 51,
      "outputs": [
        {
          "output_type": "execute_result",
          "data": {
            "text/plain": [
              "9"
            ]
          },
          "metadata": {},
          "execution_count": 51
        }
      ]
    }
  ]
}